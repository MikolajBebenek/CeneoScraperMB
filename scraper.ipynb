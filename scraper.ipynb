{
 "cells": [
  {
   "cell_type": "markdown",
   "metadata": {},
   "source": [
    "# Ceneo Scraper"
   ]
  },
  {
   "cell_type": "markdown",
   "metadata": {},
   "source": [
    "## Struktura opinii w serwisie Ceneo.pl"
   ]
  },
  {
   "cell_type": "markdown",
   "metadata": {},
   "source": [
    "|składowa|selektor|zmienna|\n",
    "|--------|--------|-------|\n",
    "|identyfikator opinii|[\"data-entry-id\"]|opinion_id|\n",
    "|autor|user-post__author-name|author|\n",
    "|rekomendacja|span.user-post__author-recomendation > em|recommend|\n",
    "|liczbę gwiazdek|span.user-post__score-count|stars|\n",
    "|treść opinii|div.user-post__text|content|\n",
    "|listę wad|review-feature__title--positives ~ div.review-feature__item|cons|\n",
    "|listę zalet|review-feature__title--negatives ~ div.review-feature__item|pros|\n",
    "|data wystawienia opinii|span.user-post__published > time:nth-child(1)[\"datetime\"]|opinion_date|\n",
    "|data zakupu produktu|span.user-post__published > time:nth-child(2)[\"datetime\"]|purchase_date|\n",
    "|ile osób uznało opinię za przydatną|button.vote-yes[\"data-total-vote\"]|up_vote|\n",
    "|ile osób uznało opinię za nieprzydatną|button.vote-no[\"data-total-vote\"]|down_vote|"
   ]
  },
  {
   "cell_type": "code",
   "execution_count": 30,
   "metadata": {},
   "outputs": [],
   "source": [
    "selectors = {\n",
    "\"opinion_id\": (None,\"data-entry-id\"),\n",
    "\"author\": (\".user-post__author-name\",),\n",
    "\"recommend\": (\"span.user-post__author-recomendation > em\",),\n",
    "\"stars\": (\"span.user-post__score-count\",),\n",
    "\"content\": (\"div.user-post__text\",),\n",
    "\"cons\": (\"div.review-feature__title review-feature__title--positives ~ div.review-feature__item\",None,True),\n",
    "\"pros\": (\"div.review-feature__title review-feature__title--negatives ~ div.review-feature__item\",None,True),\n",
    "\"opinion_date\": (\"span.user-post__published > time:nth-child(1)\",\"datetime\"),\n",
    "\"purchase_date\": (\"span.user-post__published > time:nth-child(2)\",\"datetime\"),\n",
    "\"up_vote\": (\"button.vote-yes\",\"data-total-vote\"),\n",
    "\"down_vote\": (\"button.vote-no\",\"data-total-vote\")\n",
    "}"
   ]
  },
  {
   "cell_type": "markdown",
   "metadata": {},
   "source": [
    "### Funckja do ekstrakcji danych"
   ]
  },
  {
   "cell_type": "code",
   "execution_count": 31,
   "metadata": {},
   "outputs": [],
   "source": [
    "def extract(ancestor, selector=None, attribute=None, return_list = False):\n",
    "    if return_list:\n",
    "        if attribute:\n",
    "            return [tag[attribute].strip() for tag in ancestor.select(selector)]\n",
    "        return [tag.text.strip() for tag in ancestor.select(selector)]\n",
    "    if selector:\n",
    "        if attribute:\n",
    "            try:\n",
    "                return ancestor.select_one(selector)[attribute].strip()\n",
    "            except TypeError:\n",
    "                return None\n",
    "        try:\n",
    "            return ancestor.select_one(selector).text.strip()\n",
    "        except AttributeError:\n",
    "            return None\n",
    "    if attribute:\n",
    "        return ancestor[attribute].strip()\n",
    "    return ancestor.text.strip()\n"
   ]
  },
  {
   "cell_type": "markdown",
   "metadata": {},
   "source": [
    "### Import bibliotek"
   ]
  },
  {
   "cell_type": "code",
   "execution_count": 32,
   "metadata": {},
   "outputs": [],
   "source": [
    "import os\n",
    "import json\n",
    "import requests\n",
    "from bs4 import BeautifulSoup"
   ]
  },
  {
   "cell_type": "markdown",
   "metadata": {},
   "source": [
    "### Wczytanie kodu produktu o którym pobierzemy opinie"
   ]
  },
  {
   "cell_type": "markdown",
   "metadata": {},
   "source": []
  },
  {
   "cell_type": "code",
   "execution_count": 33,
   "metadata": {},
   "outputs": [],
   "source": [
    "#product_id = 104109736\n",
    "product_id = input(\"Podaj kod produktu: \")\n",
    "url = f\"https://www.ceneo.pl/{product_id}#tab=reviews\"\n"
   ]
  },
  {
   "cell_type": "markdown",
   "metadata": {},
   "source": [
    "### Wysłanie do serwera Ceneo.pl żądania dostępu do strony z opiniami produktu"
   ]
  },
  {
   "cell_type": "code",
   "execution_count": 34,
   "metadata": {},
   "outputs": [],
   "source": [
    "response = requests.get(url)"
   ]
  },
  {
   "cell_type": "markdown",
   "metadata": {},
   "source": [
    "### Przekształcenie kodu HTML w postachi tekstowej do obiektu reprezuntującego strukture DOM\n",
    "### Wydobycie ze struktury DOM znaczników odpowiadająchc opiniom konsumentów"
   ]
  },
  {
   "cell_type": "markdown",
   "metadata": {},
   "source": [
    "### Wydobycie ze struktury znacznika odpowiadającego pojedynczej opinii jej składowych"
   ]
  },
  {
   "cell_type": "markdown",
   "metadata": {},
   "source": [
    "### Pobranie wszytskich opinii o wskazanym produkcie z serwisu Ceneo.pl"
   ]
  },
  {
   "cell_type": "code",
   "execution_count": 35,
   "metadata": {},
   "outputs": [],
   "source": [
    "all_opinions = []\n",
    "while(url):\n",
    "    response = requests.get(url)\n",
    "    page = BeautifulSoup(response.text, \"html.parser\")\n",
    "    opinions = page.select(\"div.js_product-review\")\n",
    "    for opinion in opinions:\n",
    "        single_opinion = {\n",
    "            key: extract(opinion,*value)\n",
    "                for key, value in selectors.items()\n",
    "        }\n",
    "        all_opinions.append(single_opinion)\n",
    "    try:\n",
    "        url = \"https://www.ceneo.pl/\" + extract(page, \"a.pagination__next\", \"href\")\n",
    "    except TypeError:\n",
    "        url = None\n"
   ]
  },
  {
   "cell_type": "markdown",
   "metadata": {},
   "source": [
    "### Zapis opinii o produkcie do pliku json do katalogu opinions"
   ]
  },
  {
   "cell_type": "code",
   "execution_count": 36,
   "metadata": {},
   "outputs": [],
   "source": [
    "if not os.path.exists(\"opinions\"):\n",
    "    os.mkdir('opinions')\n",
    "with open(f'opinions/{product_id}.json', \"w\", encoding=\"UTF-8\") as jf:\n",
    "    json.dump(all_opinions, jf, indent=4, ensure_ascii=False)"
   ]
  },
  {
   "cell_type": "code",
   "execution_count": 37,
   "metadata": {},
   "outputs": [
    {
     "data": {
      "text/plain": [
       "[{'opinion_id': '10884232',\n",
       "  'author': 'Grzegorz',\n",
       "  'recommend': 'Polecam',\n",
       "  'stars': '4/5',\n",
       "  'content': 'Głośnik daje radę jest lekki, ale szkoda że ma słaby akumulator. Ma w środku tyle miejsca nie można by dołożyć jeszcze jednego takiego akumulatorka!',\n",
       "  'cons': [],\n",
       "  'pros': [],\n",
       "  'opinion_date': '2019-08-07 01:31:13',\n",
       "  'purchase_date': '2019-05-04 12:18:41',\n",
       "  'up_vote': '1',\n",
       "  'down_vote': '0'},\n",
       " {'opinion_id': '10704162',\n",
       "  'author': 'edyta',\n",
       "  'recommend': None,\n",
       "  'stars': '3,5/5',\n",
       "  'content': 'jest ok ,myslalam ,ze bedzie troche mocniejsza ale za tę cene  ok ,fajnie ze mikrofon można sie powyglupiac',\n",
       "  'cons': [],\n",
       "  'pros': [],\n",
       "  'opinion_date': '2019-06-26 11:09:20',\n",
       "  'purchase_date': '2019-06-17 22:52:53',\n",
       "  'up_vote': '1',\n",
       "  'down_vote': '0'},\n",
       " {'opinion_id': '12551559',\n",
       "  'author': 'Użytkownik Ceneo',\n",
       "  'recommend': 'Polecam',\n",
       "  'stars': '4/5',\n",
       "  'content': 'Bardzo dobry dźwięk i miło się słucha muzyki dla nie wybrednych.',\n",
       "  'cons': [],\n",
       "  'pros': [],\n",
       "  'opinion_date': '2020-05-29 20:54:25',\n",
       "  'purchase_date': '2020-04-13 12:45:07',\n",
       "  'up_vote': '0',\n",
       "  'down_vote': '0'},\n",
       " {'opinion_id': '10773888',\n",
       "  'author': 'Użytkownik Ceneo',\n",
       "  'recommend': 'Polecam',\n",
       "  'stars': '5/5',\n",
       "  'content': 'Cześć glosnik jest super, czysty dźwięk',\n",
       "  'cons': [],\n",
       "  'pros': [],\n",
       "  'opinion_date': '2019-07-11 21:09:23',\n",
       "  'purchase_date': '2019-06-09 11:16:07',\n",
       "  'up_vote': '2',\n",
       "  'down_vote': '0'},\n",
       " {'opinion_id': '13403174',\n",
       "  'author': 'k...1',\n",
       "  'recommend': 'Polecam',\n",
       "  'stars': '5/5',\n",
       "  'content': 'Głośnik spełnia swoje przeznaczenie. Jak za taką cenę nie można się spodziewać niczego lepszego',\n",
       "  'cons': [],\n",
       "  'pros': [],\n",
       "  'opinion_date': '2020-11-18 23:24:46',\n",
       "  'purchase_date': '2020-11-01 21:56:17',\n",
       "  'up_vote': '0',\n",
       "  'down_vote': '0'},\n",
       " {'opinion_id': '10351945',\n",
       "  'author': 'Feliks',\n",
       "  'recommend': 'Polecam',\n",
       "  'stars': '4,5/5',\n",
       "  'content': 'produkt zgodny z moimi oczekiwaniami. Ładny desing.',\n",
       "  'cons': [],\n",
       "  'pros': [],\n",
       "  'opinion_date': '2019-04-04 21:53:20',\n",
       "  'purchase_date': '2019-02-25 12:51:55',\n",
       "  'up_vote': '3',\n",
       "  'down_vote': '0'},\n",
       " {'opinion_id': '17601491',\n",
       "  'author': 'r...r',\n",
       "  'recommend': 'Polecam',\n",
       "  'stars': '5/5',\n",
       "  'content': 'Wszystko super',\n",
       "  'cons': [],\n",
       "  'pros': [],\n",
       "  'opinion_date': '2023-06-12 11:18:51',\n",
       "  'purchase_date': '2023-06-06 13:20:42',\n",
       "  'up_vote': '0',\n",
       "  'down_vote': '0'},\n",
       " {'opinion_id': '11791065',\n",
       "  'author': 'Użytkownik Ceneo',\n",
       "  'recommend': 'Polecam',\n",
       "  'stars': '5/5',\n",
       "  'content': 'Pozytywnie',\n",
       "  'cons': [],\n",
       "  'pros': [],\n",
       "  'opinion_date': '2020-02-23 12:53:50',\n",
       "  'purchase_date': '2020-02-09 13:30:30',\n",
       "  'up_vote': '0',\n",
       "  'down_vote': '0'},\n",
       " {'opinion_id': '18111189',\n",
       "  'author': 's...4',\n",
       "  'recommend': 'Polecam',\n",
       "  'stars': '5/5',\n",
       "  'content': 'Jest ok',\n",
       "  'cons': [],\n",
       "  'pros': [],\n",
       "  'opinion_date': '2023-11-17 17:35:12',\n",
       "  'purchase_date': '2023-11-14 18:49:10',\n",
       "  'up_vote': '0',\n",
       "  'down_vote': '0'},\n",
       " {'opinion_id': '11370403',\n",
       "  'author': 'Karol',\n",
       "  'recommend': 'Nie polecam',\n",
       "  'stars': '1/5',\n",
       "  'content': 'Nie polecam,jakość dźwięku  tragedia o ile niskotonowy jakoś daje rade,to sopraniki....szkoda gadać,sprzęt sprawia wrażenie jak by miał się zaraz rozlecieć,wszystko trzeszczy,obsługa nieintuicyjna,na dodatek nie da się ściszyć go podczas włączania,co skutkuje niesamowicie głośnym przywitaniem się głośnika.Stanowczo odradzam,w tej połce cenowej lepiej sprawdza się głośnik z rączką i wysuwana anteta fm za około 80-100zł.',\n",
       "  'cons': [],\n",
       "  'pros': [],\n",
       "  'opinion_date': '2019-12-04 21:18:19',\n",
       "  'purchase_date': '2019-11-11 15:07:49',\n",
       "  'up_vote': '1',\n",
       "  'down_vote': '0'},\n",
       " {'opinion_id': '12093154',\n",
       "  'author': 'Piotr',\n",
       "  'recommend': 'Polecam',\n",
       "  'stars': '5/5',\n",
       "  'content': 'ok',\n",
       "  'cons': [],\n",
       "  'pros': [],\n",
       "  'opinion_date': '2020-04-08 13:43:36',\n",
       "  'purchase_date': '2020-04-03 20:39:55',\n",
       "  'up_vote': '0',\n",
       "  'down_vote': '0'},\n",
       " {'opinion_id': '11630927',\n",
       "  'author': 'Użytkownik Ceneo',\n",
       "  'recommend': 'Polecam',\n",
       "  'stars': '5/5',\n",
       "  'content': 'Ok',\n",
       "  'cons': [],\n",
       "  'pros': [],\n",
       "  'opinion_date': '2020-01-23 15:39:12',\n",
       "  'purchase_date': '2020-01-13 08:55:12',\n",
       "  'up_vote': '0',\n",
       "  'down_vote': '0'},\n",
       " {'opinion_id': '10350783',\n",
       "  'author': 'dd',\n",
       "  'recommend': 'Polecam',\n",
       "  'stars': '5/5',\n",
       "  'content': 'ok',\n",
       "  'cons': [],\n",
       "  'pros': [],\n",
       "  'opinion_date': '2019-04-04 17:07:55',\n",
       "  'purchase_date': '2019-03-13 22:06:10',\n",
       "  'up_vote': '0',\n",
       "  'down_vote': '2'},\n",
       " {'opinion_id': '10773614',\n",
       "  'author': 'Użytkownik Ceneo',\n",
       "  'recommend': None,\n",
       "  'stars': '5/5',\n",
       "  'content': '5,0/5',\n",
       "  'cons': [],\n",
       "  'pros': [],\n",
       "  'opinion_date': '2019-07-11 20:23:07',\n",
       "  'purchase_date': None,\n",
       "  'up_vote': '0',\n",
       "  'down_vote': '0'},\n",
       " {'opinion_id': '11587770',\n",
       "  'author': 'Jerzy',\n",
       "  'recommend': 'Nie polecam',\n",
       "  'stars': '0,5/5',\n",
       "  'content': 'ryczy niemiłosiernie przy każdym włączeniu i głośność ustawiona na full za każdym razem',\n",
       "  'cons': [],\n",
       "  'pros': [],\n",
       "  'opinion_date': '2020-01-15 16:09:46',\n",
       "  'purchase_date': '2019-12-19 08:29:34',\n",
       "  'up_vote': '0',\n",
       "  'down_vote': '0'},\n",
       " {'opinion_id': '10657154',\n",
       "  'author': 'Ola w.',\n",
       "  'recommend': 'Nie polecam',\n",
       "  'stars': '2/5',\n",
       "  'content': 'Nie jestem zadowolona z dostawy',\n",
       "  'cons': [],\n",
       "  'pros': [],\n",
       "  'opinion_date': '2019-06-13 19:48:40',\n",
       "  'purchase_date': '2019-06-09 17:54:56',\n",
       "  'up_vote': '0',\n",
       "  'down_vote': '0'}]"
      ]
     },
     "execution_count": 37,
     "metadata": {},
     "output_type": "execute_result"
    }
   ],
   "source": [
    "all_opinions"
   ]
  }
 ],
 "metadata": {
  "kernelspec": {
   "display_name": ".venv",
   "language": "python",
   "name": "python3"
  },
  "language_info": {
   "codemirror_mode": {
    "name": "ipython",
    "version": 3
   },
   "file_extension": ".py",
   "mimetype": "text/x-python",
   "name": "python",
   "nbconvert_exporter": "python",
   "pygments_lexer": "ipython3",
   "version": "3.11.9"
  }
 },
 "nbformat": 4,
 "nbformat_minor": 2
}
